{
 "cells": [
  {
   "cell_type": "code",
   "execution_count": 8,
   "id": "9a995255",
   "metadata": {},
   "outputs": [],
   "source": [
    "import matplotlib.pyplot as plt\n",
    "import numpy as np\n",
    "import os\n",
    "import PIL\n",
    "\n",
    "from keras import layers\n",
    "from keras.models import Sequential\n",
    "from keras.utils import image_dataset_from_directory"
   ]
  },
  {
   "cell_type": "markdown",
   "id": "acdaa3f8",
   "metadata": {},
   "source": [
    "## Load data"
   ]
  },
  {
   "cell_type": "code",
   "execution_count": 11,
   "id": "f25f5e0c",
   "metadata": {},
   "outputs": [],
   "source": [
    "batch_size = 32\n",
    "img_height = 384\n",
    "img_width = 512\n",
    "data_dir = \"data\""
   ]
  },
  {
   "cell_type": "code",
   "execution_count": 12,
   "id": "264a41e4",
   "metadata": {},
   "outputs": [
    {
     "name": "stdout",
     "output_type": "stream",
     "text": [
      "Found 2528 files belonging to 6 classes.\n",
      "Using 2023 files for training.\n"
     ]
    },
    {
     "name": "stderr",
     "output_type": "stream",
     "text": [
      "2023-02-27 20:28:14.477504: I tensorflow/core/platform/cpu_feature_guard.cc:193] This TensorFlow binary is optimized with oneAPI Deep Neural Network Library (oneDNN) to use the following CPU instructions in performance-critical operations:  AVX2 FMA\n",
      "To enable them in other operations, rebuild TensorFlow with the appropriate compiler flags.\n"
     ]
    }
   ],
   "source": [
    "train_ds = image_dataset_from_directory(\n",
    "  data_dir,\n",
    "  validation_split=0.2,\n",
    "  subset=\"training\",\n",
    "  seed=123,\n",
    "  image_size=(img_height, img_width),\n",
    "  batch_size=batch_size)"
   ]
  },
  {
   "cell_type": "code",
   "execution_count": 13,
   "id": "222cb748",
   "metadata": {},
   "outputs": [
    {
     "name": "stdout",
     "output_type": "stream",
     "text": [
      "['cardboard', 'glass', 'metal', 'paper', 'plastic', 'trash']\n"
     ]
    }
   ],
   "source": [
    "class_names = train_ds.class_names\n",
    "print(class_names)"
   ]
  },
  {
   "cell_type": "code",
   "execution_count": 14,
   "id": "f4499d88",
   "metadata": {},
   "outputs": [
    {
     "name": "stdout",
     "output_type": "stream",
     "text": [
      "Found 2528 files belonging to 6 classes.\n",
      "Using 505 files for validation.\n"
     ]
    }
   ],
   "source": [
    "val_ds = tf.keras.preprocessing.image_dataset_from_directory(\n",
    "  data_dir,\n",
    "  validation_split=0.2,\n",
    "  subset=\"validation\",\n",
    "  seed=123,\n",
    "  image_size=(img_height, img_width),\n",
    "  batch_size=batch_size)"
   ]
  },
  {
   "cell_type": "markdown",
   "id": "d9060e0f",
   "metadata": {},
   "source": [
    "## Build model"
   ]
  },
  {
   "cell_type": "code",
   "execution_count": 17,
   "id": "8aadaad3",
   "metadata": {},
   "outputs": [],
   "source": [
    "num_classes = 6\n",
    "\n",
    "model = Sequential([\n",
    "  layers.Conv2D(16, 3, padding='same', activation='relu'),\n",
    "  layers.MaxPooling2D(),\n",
    "  layers.Conv2D(32, 3, padding='same', activation='relu'),\n",
    "  layers.MaxPooling2D(),\n",
    "  layers.Conv2D(64, 3, padding='same', activation='relu'),\n",
    "  layers.MaxPooling2D(),\n",
    "  layers.Flatten(),\n",
    "  layers.Dense(128, activation='relu'),\n",
    "  layers.Dense(num_classes)\n",
    "])"
   ]
  },
  {
   "cell_type": "markdown",
   "id": "8520656d",
   "metadata": {},
   "source": [
    "## Compile"
   ]
  },
  {
   "cell_type": "code",
   "execution_count": 18,
   "id": "9565b600",
   "metadata": {},
   "outputs": [],
   "source": [
    "model.compile(optimizer='adam',\n",
    "              loss=tf.keras.losses.SparseCategoricalCrossentropy(from_logits=True),\n",
    "              metrics=['accuracy'])"
   ]
  },
  {
   "cell_type": "markdown",
   "id": "1f9b1c14",
   "metadata": {},
   "source": [
    "## Train"
   ]
  },
  {
   "cell_type": "code",
   "execution_count": 19,
   "id": "6b4f1462",
   "metadata": {},
   "outputs": [
    {
     "name": "stdout",
     "output_type": "stream",
     "text": [
      "Epoch 1/10\n",
      "64/64 [==============================] - 268s 4s/step - loss: 184.1503 - accuracy: 0.3411 - val_loss: 1.4154 - val_accuracy: 0.4713\n",
      "Epoch 2/10\n",
      "64/64 [==============================] - 253s 4s/step - loss: 1.1802 - accuracy: 0.5754 - val_loss: 1.4040 - val_accuracy: 0.5149\n",
      "Epoch 3/10\n",
      "64/64 [==============================] - 250s 4s/step - loss: 0.7304 - accuracy: 0.7558 - val_loss: 1.5978 - val_accuracy: 0.4792\n",
      "Epoch 4/10\n",
      "64/64 [==============================] - 245s 4s/step - loss: 0.3925 - accuracy: 0.8828 - val_loss: 1.7155 - val_accuracy: 0.5307\n",
      "Epoch 5/10\n",
      "64/64 [==============================] - 248s 4s/step - loss: 0.2184 - accuracy: 0.9338 - val_loss: 2.4711 - val_accuracy: 0.4673\n",
      "Epoch 6/10\n",
      "64/64 [==============================] - 261s 4s/step - loss: 0.2736 - accuracy: 0.9244 - val_loss: 1.9905 - val_accuracy: 0.5287\n",
      "Epoch 7/10\n",
      "64/64 [==============================] - 247s 4s/step - loss: 0.2467 - accuracy: 0.9412 - val_loss: 3.3789 - val_accuracy: 0.4931\n",
      "Epoch 8/10\n",
      "64/64 [==============================] - 246s 4s/step - loss: 0.2753 - accuracy: 0.9244 - val_loss: 2.3949 - val_accuracy: 0.5188\n",
      "Epoch 9/10\n",
      "64/64 [==============================] - 246s 4s/step - loss: 0.1182 - accuracy: 0.9649 - val_loss: 2.5493 - val_accuracy: 0.5109\n",
      "Epoch 10/10\n",
      "64/64 [==============================] - 251s 4s/step - loss: 0.1559 - accuracy: 0.9565 - val_loss: 2.6097 - val_accuracy: 0.5426\n"
     ]
    }
   ],
   "source": [
    "epochs = 10\n",
    "history = model.fit(\n",
    "  train_ds,\n",
    "  validation_data=val_ds,\n",
    "  epochs=epochs\n",
    ")"
   ]
  }
 ],
 "metadata": {
  "kernelspec": {
   "display_name": "Python 3 (ipykernel)",
   "language": "python",
   "name": "python3"
  },
  "language_info": {
   "codemirror_mode": {
    "name": "ipython",
    "version": 3
   },
   "file_extension": ".py",
   "mimetype": "text/x-python",
   "name": "python",
   "nbconvert_exporter": "python",
   "pygments_lexer": "ipython3",
   "version": "3.8.7"
  }
 },
 "nbformat": 4,
 "nbformat_minor": 5
}
